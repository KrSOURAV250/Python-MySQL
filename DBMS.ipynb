{
 "cells": [
  {
   "cell_type": "code",
   "execution_count": 1,
   "metadata": {},
   "outputs": [],
   "source": [
    "from mysql.connector import Error\n",
    "import mysql.connector\n",
    "import pandas as pd\n"
   ]
  },
  {
   "cell_type": "code",
   "execution_count": 2,
   "metadata": {},
   "outputs": [
    {
     "name": "stdout",
     "output_type": "stream",
     "text": [
      "MySQL Database Connected Successfully\n"
     ]
    }
   ],
   "source": [
    "def createServerConnection(hostName, userName, passWord):\n",
    "    connection = None\n",
    "    try:\n",
    "        connection = mysql.connector.connect(\n",
    "            host=hostName, user=userName, passwd=passWord)\n",
    "        print(\"MySQL Database Connected Successfully\")\n",
    "    except Error as err:\n",
    "        print(f\"Error : '{err}'\")\n",
    "    return connection\n",
    "\n",
    "\n",
    "connection = createServerConnection(\"localhost\", \"root\", \"9531\")\n"
   ]
  },
  {
   "attachments": {},
   "cell_type": "markdown",
   "metadata": {},
   "source": [
    "Check : Connected or Not"
   ]
  },
  {
   "cell_type": "code",
   "execution_count": 3,
   "metadata": {},
   "outputs": [
    {
     "name": "stdout",
     "output_type": "stream",
     "text": [
      "Connected SussessFylly\n"
     ]
    }
   ],
   "source": [
    "if connection.is_connected():\n",
    "    print(\"Connected SussessFylly\")\n",
    "else:\n",
    "    print(\"Not Connected\")\n"
   ]
  },
  {
   "attachments": {},
   "cell_type": "markdown",
   "metadata": {},
   "source": [
    "Create Database"
   ]
  },
  {
   "cell_type": "code",
   "execution_count": 4,
   "metadata": {},
   "outputs": [
    {
     "name": "stdout",
     "output_type": "stream",
     "text": [
      "Database Created Successfully\n"
     ]
    }
   ],
   "source": [
    "def createDatabase(connection, query):\n",
    "    cursor = connection.cursor()\n",
    "    try:\n",
    "        cursor.execute(query)\n",
    "        cursor.close()\n",
    "        print(\"Database Created Successfully\")\n",
    "    except Error as err:\n",
    "        print(f\"Error : '{err}'\")\n",
    "\n",
    "\n",
    "database1 = \"Something\"\n",
    "createDatabaseQuery = f\"create database if not exists {database1}\"\n",
    "createDatabase(connection, createDatabaseQuery)\n"
   ]
  },
  {
   "attachments": {},
   "cell_type": "markdown",
   "metadata": {},
   "source": [
    "Connect To Database"
   ]
  },
  {
   "cell_type": "code",
   "execution_count": 5,
   "metadata": {},
   "outputs": [],
   "source": [
    "def createDBConnection(hoshostName, userName, passWord, database):\n",
    "    connection = None\n",
    "    try:\n",
    "        connection = mysql.connector.connect(\n",
    "            host=hoshostName, user=userName, passwd=passWord, database=database1)\n",
    "        print(f\"Connected To Database '{database1}' Successfully\")\n",
    "    except Error as err:\n",
    "        print(f\"Error : '{err}'\")\n",
    "    return connection\n"
   ]
  },
  {
   "attachments": {},
   "cell_type": "markdown",
   "metadata": {},
   "source": [
    "Use Database"
   ]
  },
  {
   "cell_type": "code",
   "execution_count": 6,
   "metadata": {},
   "outputs": [
    {
     "name": "stdout",
     "output_type": "stream",
     "text": [
      "Connected To Database 'Something' Successfully\n"
     ]
    }
   ],
   "source": [
    "# this Statement = \"use database;\" in SQL\n",
    "connection = createDBConnection(\"localhost\", \"root\", \"9531\", database1)\n"
   ]
  },
  {
   "attachments": {},
   "cell_type": "markdown",
   "metadata": {},
   "source": [
    "Execute SQL Queries"
   ]
  },
  {
   "cell_type": "code",
   "execution_count": 7,
   "metadata": {},
   "outputs": [],
   "source": [
    "def executeQuery(connection, query):\n",
    "    cursor = connection.cursor()\n",
    "    try:\n",
    "        cursor.execute(query)\n",
    "        connection.commit()\n",
    "        print(\"Query Executed Successfully\")\n",
    "        print(f\"{cursor.rowcount} Rows Affected\")\n",
    "        # lastrowid only work when auto increment key is present in table\n",
    "        print(f\"Last Row : {cursor.lastrowid}\")\n",
    "        cursor.close()\n",
    "    except Error as err:\n",
    "        # if any Error Occured During Commiting or Saving the Changes Then RollBack is called\n",
    "        connection.rollback()\n",
    "        print(f\"Error : '{err}'\")\n"
   ]
  },
  {
   "attachments": {},
   "cell_type": "markdown",
   "metadata": {},
   "source": [
    "Execute SQL Parameterized Queries For 1 Row Using Tuple"
   ]
  },
  {
   "cell_type": "code",
   "execution_count": 8,
   "metadata": {},
   "outputs": [],
   "source": [
    "def executeParaQuery(connection, query, tpl):\n",
    "    cursor = connection.cursor()\n",
    "    try:\n",
    "        cursor.execute(query, tpl)\n",
    "        connection.commit()\n",
    "        print(\"Query Executed Successfully\")\n",
    "        print(f\"{cursor.rowcount} Rows Affected\")\n",
    "        # lastrowid only work when auto increment key is present in table\n",
    "        print(f\"Last Row : {cursor.lastrowid}\")\n",
    "        cursor.close()\n",
    "    except Error as err:\n",
    "        # if any Error Occured During Commiting or Saving the Changes Then RollBack is called\n",
    "        connection.rollback()\n",
    "        print(f\"Error : '{err}'\")\n"
   ]
  },
  {
   "attachments": {},
   "cell_type": "markdown",
   "metadata": {},
   "source": [
    "Execute SQL Parameterized Queries For Many Rows Using Tuple"
   ]
  },
  {
   "cell_type": "code",
   "execution_count": 9,
   "metadata": {},
   "outputs": [],
   "source": [
    "def executeParaManyQuery(connection, query, lst):\n",
    "    cursor = connection.cursor()\n",
    "    try:\n",
    "        cursor.executemany(query, lst)\n",
    "        connection.commit()\n",
    "        print(\"Query Executed Successfully\")\n",
    "        print(f\"{cursor.rowcount} Rows Affected\")\n",
    "        # lastrowid only work when auto increment key is present in table\n",
    "        print(f\"Last Row : {cursor.lastrowid}\")\n",
    "        cursor.close()\n",
    "    except Error as err:\n",
    "        # if any Error Occured During Commiting or Saving the Changes Then RollBack is called\n",
    "        connection.rollback()\n",
    "        print(f\"Error : '{err}'\")"
   ]
  },
  {
   "attachments": {},
   "cell_type": "markdown",
   "metadata": {},
   "source": [
    "For Dictionary for 1 Row Using Dictionary"
   ]
  },
  {
   "cell_type": "code",
   "execution_count": 10,
   "metadata": {},
   "outputs": [],
   "source": [
    "def executeParaDictQuery(connection, query, dct):\n",
    "    cursor = connection.cursor()\n",
    "    try:\n",
    "        cursor.execute(query, dct)\n",
    "        connection.commit()\n",
    "        print(\"Query Executed Successfully\")\n",
    "        print(f\"{cursor.rowcount} Rows Affected\")\n",
    "        # lastrowid only work when auto increment key is present in table\n",
    "        print(f\"Last Row : {cursor.lastrowid}\")\n",
    "        cursor.close()\n",
    "    except Error as err:\n",
    "        # if any Error Occured During Commiting or Saving the Changes Then RollBack is called\n",
    "        connection.rollback()\n",
    "        print(f\"Error : '{err}'\")"
   ]
  },
  {
   "attachments": {},
   "cell_type": "markdown",
   "metadata": {},
   "source": [
    "For Dictionary for Many Rows Using Dictionary"
   ]
  },
  {
   "cell_type": "code",
   "execution_count": 11,
   "metadata": {},
   "outputs": [],
   "source": [
    "def executeParaDictManyQuery(connection, query, lstDict):\n",
    "    cursor = connection.cursor()\n",
    "    try:\n",
    "        cursor.executemany(query, lstDict)\n",
    "        connection.commit()\n",
    "        print(\"Query Executed Successfully\")\n",
    "        print(f\"{cursor.rowcount} Rows Affected\")\n",
    "        # lastrowid only work when auto increment key is present in table\n",
    "        print(f\"Last Row : {cursor.lastrowid}\")\n",
    "        cursor.close()\n",
    "    except Error as err:\n",
    "        # if any Error Occured During Commiting or Saving the Changes Then RollBack is called\n",
    "        connection.rollback()\n",
    "        print(f\"Error : '{err}'\")"
   ]
  },
  {
   "cell_type": "code",
   "execution_count": 12,
   "metadata": {},
   "outputs": [
    {
     "name": "stdout",
     "output_type": "stream",
     "text": [
      "Query Executed Successfully\n",
      "0 Rows Affected\n",
      "Last Row : 0\n"
     ]
    }
   ],
   "source": [
    "createOrderTable = \"\"\"\n",
    "CREATE TABLE if not exists order_table(\n",
    "    order_id int primary key auto_increment,\n",
    "    customer_name varchar(30) not null,\n",
    "    product_name varchar(20) not null,\n",
    "    date_ordered date,\n",
    "    quantity int,\n",
    "    unit_price float,\n",
    "    phone_no varchar(20)\n",
    ");\n",
    "\"\"\"\n",
    "# connect to the database\n",
    "executeQuery(connection, createOrderTable)\n"
   ]
  },
  {
   "attachments": {},
   "cell_type": "markdown",
   "metadata": {},
   "source": [
    "Insert Data"
   ]
  },
  {
   "cell_type": "code",
   "execution_count": 13,
   "metadata": {},
   "outputs": [
    {
     "name": "stdout",
     "output_type": "stream",
     "text": [
      "Query Executed Successfully\n",
      "11 Rows Affected\n",
      "Last Row : 210\n"
     ]
    }
   ],
   "source": [
    "dataOrders = \"\"\"\n",
    "insert  into order_table (customer_name, product_name, date_ordered, quantity, unit_price, phone_no) \n",
    "  values  \n",
    "    (\"Steve\", \"Laptop\", \"2018-06-12\", 2, 800, \"6293730802\"),\n",
    "    (\"Joe\", \"Book\", \"2019-02-10\", 10, 12, \"5621478932\"),\n",
    "    (\"Stacy\", \"Trouser\", \"2018-12-25\", 5, 50, \"9874521469\"),\n",
    "    (\"Nancy\", \"T-Shirt\", \"2018-07-14\", 7, 30, \"1235412589\"),\n",
    "    (\"Maria\", \"Headphones\", \"2019-05-30\", 6, 48, \"532147298\"),\n",
    "    (\"Danny\", \"Smart Tv\", \"2018-08-20\", 10, 300, \"3541978265\"),\n",
    "    (\"Kr. SOURAV\", \"I Phone\", \"2023-09-05\", 1, 150000, \"9877330880\"),\n",
    "    (\"Varun\", \"MacBook\", \"2023-09-05\", 1, 159999, \"9658741236\"),\n",
    "    (\"Keshav\", \"UnderWear\", \"2023-09-05\", 5, 80, \"5417426985\"),\n",
    "    (\"Dinesh\", \"AirPods\", \"2023-09-05\", 1, 60000, \"8855214569\"),\n",
    "    (\"JassPreet\", \"Moniter\", \"2023-09-05\", 2, 45000, \"7411474147\");\n",
    "\"\"\"\n",
    "executeQuery(connection, dataOrders)"
   ]
  },
  {
   "attachments": {},
   "cell_type": "markdown",
   "metadata": {},
   "source": [
    "Parameterized Query For 1 Row"
   ]
  },
  {
   "cell_type": "code",
   "execution_count": 14,
   "metadata": {},
   "outputs": [
    {
     "name": "stdout",
     "output_type": "stream",
     "text": [
      "Query Executed Successfully\n",
      "1 Rows Affected\n",
      "Last Row : 221\n"
     ]
    }
   ],
   "source": [
    "# From Tuple\n",
    "data = (\"Sadhu\", \"Pot\", \"2022-07-12\", 4, 50, \"9999999999\")\n",
    "iq1 = \"\"\"\n",
    "insert into order_table (customer_name, product_name, date_ordered, quantity, unit_price, phone_no)\n",
    "       values (%s, %s, %s, %s, %s, %s)\n",
    "\"\"\"\n",
    "executeParaQuery(connection, iq1, data)"
   ]
  },
  {
   "attachments": {},
   "cell_type": "markdown",
   "metadata": {},
   "source": [
    "Parameterized Query For Many Rows"
   ]
  },
  {
   "cell_type": "code",
   "execution_count": 15,
   "metadata": {},
   "outputs": [
    {
     "name": "stdout",
     "output_type": "stream",
     "text": [
      "Query Executed Successfully\n",
      "3 Rows Affected\n",
      "Last Row : 222\n"
     ]
    }
   ],
   "source": [
    "# From Tuple\n",
    "manyData = [(\"Harry\", \"Pizza\", \"2022-05-01\", 2, 100, \"9541256951\"),\n",
    "        (\"Chahal\", \"Burgger\", \"2022-07-02\", 4, 60, \"3571594562\"),\n",
    "        (\"Manveer\", \"Jacket\", \"2022-07-06\", 2, 2100, \"7415987415\")]\n",
    "iq2 = \"\"\"\n",
    "insert into order_table (customer_name, product_name, date_ordered, quantity, unit_price, phone_no)\n",
    "       values (%s, %s, %s, %s, %s, %s)\n",
    "\"\"\"\n",
    "executeParaManyQuery(connection, iq2, manyData)"
   ]
  },
  {
   "cell_type": "code",
   "execution_count": 16,
   "metadata": {},
   "outputs": [
    {
     "name": "stdout",
     "output_type": "stream",
     "text": [
      "Query Executed Successfully\n",
      "1 Rows Affected\n",
      "Last Row : 225\n"
     ]
    }
   ],
   "source": [
    "# From Dictionary For 1 Row\n",
    "dataDict = {\"cName\": \"Sameer\", \"pNmae\": \"A.C.\", \"date\": \"2022-01-04\",\n",
    "            \"qty\": 1, \"uPrice\": 90000, \"phNo\": \"5214521452\"}\n",
    "iq3 = \"\"\"\n",
    "insert into order_table (customer_name, product_name, date_ordered, quantity, unit_price, phone_no)\n",
    "       values (%(cName)s, %(pNmae)s, %(date)s, %(qty)s, %(uPrice)s, %(phNo)s);\n",
    "\"\"\"\n",
    "executeParaDictQuery(connection, iq3, dataDict)"
   ]
  },
  {
   "cell_type": "code",
   "execution_count": 17,
   "metadata": {},
   "outputs": [
    {
     "name": "stdout",
     "output_type": "stream",
     "text": [
      "Query Executed Successfully\n",
      "3 Rows Affected\n",
      "Last Row : 226\n",
      "Query Executed Successfully\n",
      "19 Rows Affected\n",
      "Last Row : 0\n"
     ]
    }
   ],
   "source": [
    "# From Dictionary For Many Rows\n",
    "dataDictMany = [{\"cName\": \"Muskaan\", \"pNmae\": \"I Phone\", \"date\": \"2022-09-05\",\n",
    "                 \"qty\": 1, \"uPrice\": 150000, \"phNo\": \"9877330881\"}, {\"cName\": \"Pankaj\", \"pNmae\": \"Battery\", \"date\": \"2022-09-06\",\n",
    "                                                                     \"qty\": 2, \"uPrice\": 30, \"phNo\": \"8888555544\"}, {\"cName\": \"Naazdeep\", \"pNmae\": \"Notebook\", \"date\": \"2022-09-06\",\n",
    "                                                                                                                     \"qty\": 7, \"uPrice\": 70, \"phNo\": \"3211114569\"}]\n",
    "iq4 = \"\"\"\n",
    "insert into order_table (customer_name, product_name, date_ordered, quantity, unit_price, phone_no)\n",
    "       values (%(cName)s, %(pNmae)s, %(date)s, %(qty)s, %(uPrice)s, %(phNo)s);\n",
    "\"\"\"\n",
    "executeParaDictManyQuery(connection, iq4, dataDictMany)\n",
    "\n",
    "executeQuery(connection, \"delete from order_table where order_id > 19\")\n"
   ]
  },
  {
   "attachments": {},
   "cell_type": "markdown",
   "metadata": {},
   "source": [
    "Delete By Parameterized QueryRow Using Tuple"
   ]
  },
  {
   "cell_type": "code",
   "execution_count": 18,
   "metadata": {},
   "outputs": [
    {
     "name": "stdout",
     "output_type": "stream",
     "text": [
      "Query Executed Successfully\n",
      "0 Rows Affected\n",
      "Last Row : 0\n"
     ]
    }
   ],
   "source": [
    "# From Tuple\n",
    "dataD = (\"Harry\",)\n",
    "dq1 = \"\"\"\n",
    "delete from order_table where customer_name = %s;\n",
    "\"\"\"\n",
    "executeParaQuery(connection, dq1, dataD)"
   ]
  },
  {
   "attachments": {},
   "cell_type": "markdown",
   "metadata": {},
   "source": [
    "Delete By Parameterized Query Row Using Dictionary"
   ]
  },
  {
   "cell_type": "code",
   "execution_count": 19,
   "metadata": {},
   "outputs": [
    {
     "name": "stdout",
     "output_type": "stream",
     "text": [
      "Query Executed Successfully\n",
      "0 Rows Affected\n",
      "Last Row : 0\n"
     ]
    }
   ],
   "source": [
    "dataDDict = {\"cName\": \"joe\"}\n",
    "dq2 = \"\"\"\n",
    "delete from order_table where customer_name = %(cName)s;\n",
    "\"\"\"\n",
    "executeParaQuery(connection, dq2, dataDDict)"
   ]
  },
  {
   "attachments": {},
   "cell_type": "markdown",
   "metadata": {},
   "source": [
    "Read From Database"
   ]
  },
  {
   "cell_type": "code",
   "execution_count": 20,
   "metadata": {},
   "outputs": [],
   "source": [
    "def readQuery(connection, query):\n",
    "    cursor = connection.cursor(buffered=True)\n",
    "    result = None\n",
    "    try:\n",
    "        cursor.execute(query)\n",
    "        # fetchone only give one row and it is iterable, required buffered=true or not close the cursor\n",
    "        # result = cursor.fetchone()\n",
    "        # fetchall give all rows and it returns list of tuples(rows)\n",
    "        result = cursor.fetchall()\n",
    "        # fetchmany takes argument size=number of rows to fetch\n",
    "        # result = cursor.fetchmany(5), required buffered=true or not close the cursor\n",
    "        cursor.close()\n",
    "        print(\"Total Rows :\", cursor.rowcount)\n",
    "        return result\n",
    "    except Error as err:\n",
    "        print(f\"Error : '{err}'\")\n"
   ]
  },
  {
   "attachments": {},
   "cell_type": "markdown",
   "metadata": {},
   "source": [
    "Using Select Statement"
   ]
  },
  {
   "cell_type": "code",
   "execution_count": 21,
   "metadata": {},
   "outputs": [
    {
     "name": "stdout",
     "output_type": "stream",
     "text": [
      "Total Rows : 16\n",
      "(1, 'Steve', 'Laptop', datetime.date(2018, 6, 12), 2, 800.0, '6293730802')\n",
      "(3, 'Stacy', 'Trouser', datetime.date(2018, 12, 25), 5, 50.0, '9874521469')\n",
      "(5, 'Maria', 'Headphones', datetime.date(2019, 5, 30), 6, 48.0, '532147298')\n",
      "(6, 'Danny', 'Smart Tv', datetime.date(2018, 8, 20), 10, 300.0, '3541978265')\n",
      "(7, 'Kr. SOURAV', 'I Phone', datetime.date(2023, 9, 5), 1, 150000.0, '9877330880')\n",
      "(8, 'VarunPreet', 'MacBook', datetime.date(2023, 9, 5), 1, 159999.0, '9658741236')\n",
      "(9, 'Keshav Sharma', 'UnderWear', datetime.date(2023, 9, 5), 5, 390.0, '5417426985')\n",
      "(10, 'Dinesh', 'AirPods', datetime.date(2023, 9, 5), 1, 60000.0, '8855214569')\n",
      "(11, 'JassPreet', 'Moniter', datetime.date(2023, 9, 5), 2, 45000.0, '7411474147')\n",
      "(12, 'Sadhu', 'Pot', datetime.date(2022, 7, 12), 4, 50.0, '9999999999')\n",
      "(14, 'Chahal', 'Burgger', datetime.date(2022, 7, 2), 4, 60.0, '3571594562')\n",
      "(15, 'Manveer', 'Jacket', datetime.date(2022, 7, 6), 2, 2100.0, '7415987415')\n",
      "(16, 'Sameer', 'A.C.', datetime.date(2022, 1, 4), 1, 90000.0, '5214521452')\n",
      "(17, 'Muskaan', 'I Phone', datetime.date(2022, 9, 5), 1, 150000.0, '9877330881')\n",
      "(18, 'Pankaj', 'Battery', datetime.date(2022, 9, 6), 2, 30.0, '8888555544')\n",
      "(19, 'Naazdeep', 'Notebook', datetime.date(2022, 9, 6), 7, 70.0, '3211114569')\n"
     ]
    }
   ],
   "source": [
    "q1 = \"\"\"\n",
    "select * from order_table;\n",
    "\"\"\"\n",
    "q2 = \"\"\"\n",
    "select customer_name, phone_no from order_table;\n",
    "\"\"\"\n",
    "q3 = \"\"\"\n",
    "select customer_name, phone_no, year(date_ordered) from order_table;\n",
    "\"\"\"\n",
    "q4 = \"\"\"\n",
    "select distinct year(date_ordered) from order_table;\n",
    "\"\"\"\n",
    "q5 = \"\"\"\n",
    "select * from order_table where product_name = \"t-shirt\";\n",
    "\"\"\"\n",
    "q6 = \"\"\"\n",
    "select * from order_table where date_ordered < \"2018-12-31\";\n",
    "\"\"\"\n",
    "q7 = \"\"\"\n",
    "select * from order_table where date_ordered > \"2018-12-31\";\n",
    "\"\"\"\n",
    "q8 = \"\"\"\n",
    "select * from order_table order by unit_price desc;\n",
    "\"\"\"\n",
    "q9 = \"\"\"\n",
    "show databases;\n",
    "\"\"\"\n",
    "q10 = \"\"\"\n",
    "select * from order_table where customer_name = \"keshav\";\n",
    "\"\"\"\n",
    "results = readQuery(connection, q1)  # return a list of tuples\n",
    "for r in results:\n",
    "    print(r)\n"
   ]
  },
  {
   "attachments": {},
   "cell_type": "markdown",
   "metadata": {},
   "source": [
    "Update Query "
   ]
  },
  {
   "cell_type": "code",
   "execution_count": 22,
   "metadata": {},
   "outputs": [
    {
     "name": "stdout",
     "output_type": "stream",
     "text": [
      "Query Executed Successfully\n",
      "0 Rows Affected\n",
      "Last Row : 0\n"
     ]
    }
   ],
   "source": [
    "up1 = \"\"\"\n",
    "update order_table set unit_price = 79.99 where customer_name = \"Keshav\";\n",
    "\"\"\"\n",
    "executeQuery(connection, up1)"
   ]
  },
  {
   "attachments": {},
   "cell_type": "markdown",
   "metadata": {},
   "source": [
    "Update By Parameterized Query Using Tuple"
   ]
  },
  {
   "cell_type": "code",
   "execution_count": 23,
   "metadata": {},
   "outputs": [
    {
     "name": "stdout",
     "output_type": "stream",
     "text": [
      "Query Executed Successfully\n",
      "0 Rows Affected\n",
      "Last Row : 0\n"
     ]
    }
   ],
   "source": [
    "uDataT = (159999, \"varunpreet\", \"varun\")\n",
    "up2 = \"\"\"\n",
    "update order_table set unit_price = %s, customer_name = %s where customer_name = %s\n",
    "\"\"\"\n",
    "# up2 = \"\"\"\n",
    "# update order_table set unit_price = ? where customer_name = ?;\n",
    "# \"\"\"  # ? will execute when Prepared=True in cursor\n",
    "executeParaQuery(connection, up2, uDataT)\n"
   ]
  },
  {
   "attachments": {},
   "cell_type": "markdown",
   "metadata": {},
   "source": [
    "Update By Parameterized Query Using Dictionary"
   ]
  },
  {
   "cell_type": "code",
   "execution_count": 24,
   "metadata": {},
   "outputs": [
    {
     "name": "stdout",
     "output_type": "stream",
     "text": [
      "Query Executed Successfully\n",
      "0 Rows Affected\n",
      "Last Row : 0\n"
     ]
    }
   ],
   "source": [
    "uDataD = {\"qty\": 10, \"cName\": \"danny\"}\n",
    "up3 = \"\"\"\n",
    "update order_table set quantity = %(qty)s where customer_name = %(cName)s\n",
    "\"\"\"\n",
    "executeParaQuery(connection, up3, uDataD)\n"
   ]
  },
  {
   "cell_type": "code",
   "execution_count": 25,
   "metadata": {},
   "outputs": [
    {
     "data": {
      "text/html": [
       "<div>\n",
       "<style scoped>\n",
       "    .dataframe tbody tr th:only-of-type {\n",
       "        vertical-align: middle;\n",
       "    }\n",
       "\n",
       "    .dataframe tbody tr th {\n",
       "        vertical-align: top;\n",
       "    }\n",
       "\n",
       "    .dataframe thead th {\n",
       "        text-align: right;\n",
       "    }\n",
       "</style>\n",
       "<table border=\"1\" class=\"dataframe\">\n",
       "  <thead>\n",
       "    <tr style=\"text-align: right;\">\n",
       "      <th></th>\n",
       "      <th>Order_ID</th>\n",
       "      <th>Customer_Name</th>\n",
       "      <th>Product_Name</th>\n",
       "      <th>Date_Ordered</th>\n",
       "      <th>Quantity</th>\n",
       "      <th>Unit_Price</th>\n",
       "      <th>Phone_No.</th>\n",
       "    </tr>\n",
       "  </thead>\n",
       "  <tbody>\n",
       "    <tr>\n",
       "      <th>0</th>\n",
       "      <td>1</td>\n",
       "      <td>Steve</td>\n",
       "      <td>Laptop</td>\n",
       "      <td>2018-06-12</td>\n",
       "      <td>2</td>\n",
       "      <td>800.0</td>\n",
       "      <td>6293730802</td>\n",
       "    </tr>\n",
       "    <tr>\n",
       "      <th>1</th>\n",
       "      <td>3</td>\n",
       "      <td>Stacy</td>\n",
       "      <td>Trouser</td>\n",
       "      <td>2018-12-25</td>\n",
       "      <td>5</td>\n",
       "      <td>50.0</td>\n",
       "      <td>9874521469</td>\n",
       "    </tr>\n",
       "    <tr>\n",
       "      <th>2</th>\n",
       "      <td>5</td>\n",
       "      <td>Maria</td>\n",
       "      <td>Headphones</td>\n",
       "      <td>2019-05-30</td>\n",
       "      <td>6</td>\n",
       "      <td>48.0</td>\n",
       "      <td>532147298</td>\n",
       "    </tr>\n",
       "    <tr>\n",
       "      <th>3</th>\n",
       "      <td>6</td>\n",
       "      <td>Danny</td>\n",
       "      <td>Smart Tv</td>\n",
       "      <td>2018-08-20</td>\n",
       "      <td>10</td>\n",
       "      <td>300.0</td>\n",
       "      <td>3541978265</td>\n",
       "    </tr>\n",
       "    <tr>\n",
       "      <th>4</th>\n",
       "      <td>7</td>\n",
       "      <td>Kr. SOURAV</td>\n",
       "      <td>I Phone</td>\n",
       "      <td>2023-09-05</td>\n",
       "      <td>1</td>\n",
       "      <td>150000.0</td>\n",
       "      <td>9877330880</td>\n",
       "    </tr>\n",
       "    <tr>\n",
       "      <th>5</th>\n",
       "      <td>8</td>\n",
       "      <td>VarunPreet</td>\n",
       "      <td>MacBook</td>\n",
       "      <td>2023-09-05</td>\n",
       "      <td>1</td>\n",
       "      <td>159999.0</td>\n",
       "      <td>9658741236</td>\n",
       "    </tr>\n",
       "    <tr>\n",
       "      <th>6</th>\n",
       "      <td>9</td>\n",
       "      <td>Keshav Sharma</td>\n",
       "      <td>UnderWear</td>\n",
       "      <td>2023-09-05</td>\n",
       "      <td>5</td>\n",
       "      <td>390.0</td>\n",
       "      <td>5417426985</td>\n",
       "    </tr>\n",
       "    <tr>\n",
       "      <th>7</th>\n",
       "      <td>10</td>\n",
       "      <td>Dinesh</td>\n",
       "      <td>AirPods</td>\n",
       "      <td>2023-09-05</td>\n",
       "      <td>1</td>\n",
       "      <td>60000.0</td>\n",
       "      <td>8855214569</td>\n",
       "    </tr>\n",
       "    <tr>\n",
       "      <th>8</th>\n",
       "      <td>11</td>\n",
       "      <td>JassPreet</td>\n",
       "      <td>Moniter</td>\n",
       "      <td>2023-09-05</td>\n",
       "      <td>2</td>\n",
       "      <td>45000.0</td>\n",
       "      <td>7411474147</td>\n",
       "    </tr>\n",
       "    <tr>\n",
       "      <th>9</th>\n",
       "      <td>12</td>\n",
       "      <td>Sadhu</td>\n",
       "      <td>Pot</td>\n",
       "      <td>2022-07-12</td>\n",
       "      <td>4</td>\n",
       "      <td>50.0</td>\n",
       "      <td>9999999999</td>\n",
       "    </tr>\n",
       "    <tr>\n",
       "      <th>10</th>\n",
       "      <td>14</td>\n",
       "      <td>Chahal</td>\n",
       "      <td>Burgger</td>\n",
       "      <td>2022-07-02</td>\n",
       "      <td>4</td>\n",
       "      <td>60.0</td>\n",
       "      <td>3571594562</td>\n",
       "    </tr>\n",
       "    <tr>\n",
       "      <th>11</th>\n",
       "      <td>15</td>\n",
       "      <td>Manveer</td>\n",
       "      <td>Jacket</td>\n",
       "      <td>2022-07-06</td>\n",
       "      <td>2</td>\n",
       "      <td>2100.0</td>\n",
       "      <td>7415987415</td>\n",
       "    </tr>\n",
       "    <tr>\n",
       "      <th>12</th>\n",
       "      <td>16</td>\n",
       "      <td>Sameer</td>\n",
       "      <td>A.C.</td>\n",
       "      <td>2022-01-04</td>\n",
       "      <td>1</td>\n",
       "      <td>90000.0</td>\n",
       "      <td>5214521452</td>\n",
       "    </tr>\n",
       "    <tr>\n",
       "      <th>13</th>\n",
       "      <td>17</td>\n",
       "      <td>Muskaan</td>\n",
       "      <td>I Phone</td>\n",
       "      <td>2022-09-05</td>\n",
       "      <td>1</td>\n",
       "      <td>150000.0</td>\n",
       "      <td>9877330881</td>\n",
       "    </tr>\n",
       "    <tr>\n",
       "      <th>14</th>\n",
       "      <td>18</td>\n",
       "      <td>Pankaj</td>\n",
       "      <td>Battery</td>\n",
       "      <td>2022-09-06</td>\n",
       "      <td>2</td>\n",
       "      <td>30.0</td>\n",
       "      <td>8888555544</td>\n",
       "    </tr>\n",
       "    <tr>\n",
       "      <th>15</th>\n",
       "      <td>19</td>\n",
       "      <td>Naazdeep</td>\n",
       "      <td>Notebook</td>\n",
       "      <td>2022-09-06</td>\n",
       "      <td>7</td>\n",
       "      <td>70.0</td>\n",
       "      <td>3211114569</td>\n",
       "    </tr>\n",
       "  </tbody>\n",
       "</table>\n",
       "</div>"
      ],
      "text/plain": [
       "    Order_ID  Customer_Name Product_Name Date_Ordered  Quantity  Unit_Price  \\\n",
       "0          1          Steve       Laptop   2018-06-12         2       800.0   \n",
       "1          3          Stacy      Trouser   2018-12-25         5        50.0   \n",
       "2          5          Maria   Headphones   2019-05-30         6        48.0   \n",
       "3          6          Danny     Smart Tv   2018-08-20        10       300.0   \n",
       "4          7     Kr. SOURAV      I Phone   2023-09-05         1    150000.0   \n",
       "5          8     VarunPreet      MacBook   2023-09-05         1    159999.0   \n",
       "6          9  Keshav Sharma    UnderWear   2023-09-05         5       390.0   \n",
       "7         10         Dinesh      AirPods   2023-09-05         1     60000.0   \n",
       "8         11      JassPreet      Moniter   2023-09-05         2     45000.0   \n",
       "9         12          Sadhu          Pot   2022-07-12         4        50.0   \n",
       "10        14         Chahal      Burgger   2022-07-02         4        60.0   \n",
       "11        15        Manveer       Jacket   2022-07-06         2      2100.0   \n",
       "12        16         Sameer         A.C.   2022-01-04         1     90000.0   \n",
       "13        17        Muskaan      I Phone   2022-09-05         1    150000.0   \n",
       "14        18         Pankaj      Battery   2022-09-06         2        30.0   \n",
       "15        19       Naazdeep     Notebook   2022-09-06         7        70.0   \n",
       "\n",
       "     Phone_No.  \n",
       "0   6293730802  \n",
       "1   9874521469  \n",
       "2    532147298  \n",
       "3   3541978265  \n",
       "4   9877330880  \n",
       "5   9658741236  \n",
       "6   5417426985  \n",
       "7   8855214569  \n",
       "8   7411474147  \n",
       "9   9999999999  \n",
       "10  3571594562  \n",
       "11  7415987415  \n",
       "12  5214521452  \n",
       "13  9877330881  \n",
       "14  8888555544  \n",
       "15  3211114569  "
      ]
     },
     "execution_count": 25,
     "metadata": {},
     "output_type": "execute_result"
    }
   ],
   "source": [
    "tableList = []\n",
    "for i in results:\n",
    "    tableList.append(i)\n",
    "columns = (\"Order_ID\", \"Customer_Name\", \"Product_Name\",\n",
    "           \"Date_Ordered\", \"Quantity\", \"Unit_Price\", \"Phone_No.\")\n",
    "df = pd.DataFrame(tableList, columns=columns)\n",
    "df\n"
   ]
  },
  {
   "attachments": {},
   "cell_type": "markdown",
   "metadata": {},
   "source": [
    "Update Commands"
   ]
  },
  {
   "cell_type": "code",
   "execution_count": 26,
   "metadata": {},
   "outputs": [
    {
     "name": "stdout",
     "output_type": "stream",
     "text": [
      "Query Executed Successfully\n",
      "0 Rows Affected\n",
      "Last Row : 0\n"
     ]
    }
   ],
   "source": [
    "updateQuery = \"\"\"\n",
    "update order_table\n",
    "set unit_price = 45 where order_id = 103;\n",
    "\"\"\"\n",
    "executeQuery(connection, updateQuery)\n"
   ]
  },
  {
   "cell_type": "code",
   "execution_count": 27,
   "metadata": {},
   "outputs": [
    {
     "name": "stdout",
     "output_type": "stream",
     "text": [
      "Total Rows : 16\n"
     ]
    },
    {
     "data": {
      "text/html": [
       "<div>\n",
       "<style scoped>\n",
       "    .dataframe tbody tr th:only-of-type {\n",
       "        vertical-align: middle;\n",
       "    }\n",
       "\n",
       "    .dataframe tbody tr th {\n",
       "        vertical-align: top;\n",
       "    }\n",
       "\n",
       "    .dataframe thead th {\n",
       "        text-align: right;\n",
       "    }\n",
       "</style>\n",
       "<table border=\"1\" class=\"dataframe\">\n",
       "  <thead>\n",
       "    <tr style=\"text-align: right;\">\n",
       "      <th></th>\n",
       "      <th>Order_ID</th>\n",
       "      <th>Customer_Name</th>\n",
       "      <th>Product_Name</th>\n",
       "      <th>Date_Ordered</th>\n",
       "      <th>Quantity</th>\n",
       "      <th>Unit_Price</th>\n",
       "      <th>Phone_No.</th>\n",
       "    </tr>\n",
       "  </thead>\n",
       "  <tbody>\n",
       "    <tr>\n",
       "      <th>0</th>\n",
       "      <td>1</td>\n",
       "      <td>Steve</td>\n",
       "      <td>Laptop</td>\n",
       "      <td>2018-06-12</td>\n",
       "      <td>2</td>\n",
       "      <td>800.0</td>\n",
       "      <td>6293730802</td>\n",
       "    </tr>\n",
       "    <tr>\n",
       "      <th>1</th>\n",
       "      <td>3</td>\n",
       "      <td>Stacy</td>\n",
       "      <td>Trouser</td>\n",
       "      <td>2018-12-25</td>\n",
       "      <td>5</td>\n",
       "      <td>50.0</td>\n",
       "      <td>9874521469</td>\n",
       "    </tr>\n",
       "    <tr>\n",
       "      <th>2</th>\n",
       "      <td>5</td>\n",
       "      <td>Maria</td>\n",
       "      <td>Headphones</td>\n",
       "      <td>2019-05-30</td>\n",
       "      <td>6</td>\n",
       "      <td>48.0</td>\n",
       "      <td>532147298</td>\n",
       "    </tr>\n",
       "    <tr>\n",
       "      <th>3</th>\n",
       "      <td>6</td>\n",
       "      <td>Danny</td>\n",
       "      <td>Smart Tv</td>\n",
       "      <td>2018-08-20</td>\n",
       "      <td>10</td>\n",
       "      <td>300.0</td>\n",
       "      <td>3541978265</td>\n",
       "    </tr>\n",
       "    <tr>\n",
       "      <th>4</th>\n",
       "      <td>7</td>\n",
       "      <td>Kr. SOURAV</td>\n",
       "      <td>I Phone</td>\n",
       "      <td>2023-09-05</td>\n",
       "      <td>1</td>\n",
       "      <td>150000.0</td>\n",
       "      <td>9877330880</td>\n",
       "    </tr>\n",
       "    <tr>\n",
       "      <th>5</th>\n",
       "      <td>8</td>\n",
       "      <td>VarunPreet</td>\n",
       "      <td>MacBook</td>\n",
       "      <td>2023-09-05</td>\n",
       "      <td>1</td>\n",
       "      <td>159999.0</td>\n",
       "      <td>9658741236</td>\n",
       "    </tr>\n",
       "    <tr>\n",
       "      <th>6</th>\n",
       "      <td>9</td>\n",
       "      <td>Keshav Sharma</td>\n",
       "      <td>UnderWear</td>\n",
       "      <td>2023-09-05</td>\n",
       "      <td>5</td>\n",
       "      <td>390.0</td>\n",
       "      <td>5417426985</td>\n",
       "    </tr>\n",
       "    <tr>\n",
       "      <th>7</th>\n",
       "      <td>10</td>\n",
       "      <td>Dinesh</td>\n",
       "      <td>AirPods</td>\n",
       "      <td>2023-09-05</td>\n",
       "      <td>1</td>\n",
       "      <td>60000.0</td>\n",
       "      <td>8855214569</td>\n",
       "    </tr>\n",
       "    <tr>\n",
       "      <th>8</th>\n",
       "      <td>11</td>\n",
       "      <td>JassPreet</td>\n",
       "      <td>Moniter</td>\n",
       "      <td>2023-09-05</td>\n",
       "      <td>2</td>\n",
       "      <td>45000.0</td>\n",
       "      <td>7411474147</td>\n",
       "    </tr>\n",
       "    <tr>\n",
       "      <th>9</th>\n",
       "      <td>12</td>\n",
       "      <td>Sadhu</td>\n",
       "      <td>Pot</td>\n",
       "      <td>2022-07-12</td>\n",
       "      <td>4</td>\n",
       "      <td>50.0</td>\n",
       "      <td>9999999999</td>\n",
       "    </tr>\n",
       "    <tr>\n",
       "      <th>10</th>\n",
       "      <td>14</td>\n",
       "      <td>Chahal</td>\n",
       "      <td>Burgger</td>\n",
       "      <td>2022-07-02</td>\n",
       "      <td>4</td>\n",
       "      <td>60.0</td>\n",
       "      <td>3571594562</td>\n",
       "    </tr>\n",
       "    <tr>\n",
       "      <th>11</th>\n",
       "      <td>15</td>\n",
       "      <td>Manveer</td>\n",
       "      <td>Jacket</td>\n",
       "      <td>2022-07-06</td>\n",
       "      <td>2</td>\n",
       "      <td>2100.0</td>\n",
       "      <td>7415987415</td>\n",
       "    </tr>\n",
       "    <tr>\n",
       "      <th>12</th>\n",
       "      <td>16</td>\n",
       "      <td>Sameer</td>\n",
       "      <td>A.C.</td>\n",
       "      <td>2022-01-04</td>\n",
       "      <td>1</td>\n",
       "      <td>90000.0</td>\n",
       "      <td>5214521452</td>\n",
       "    </tr>\n",
       "    <tr>\n",
       "      <th>13</th>\n",
       "      <td>17</td>\n",
       "      <td>Muskaan</td>\n",
       "      <td>I Phone</td>\n",
       "      <td>2022-09-05</td>\n",
       "      <td>1</td>\n",
       "      <td>150000.0</td>\n",
       "      <td>9877330881</td>\n",
       "    </tr>\n",
       "    <tr>\n",
       "      <th>14</th>\n",
       "      <td>18</td>\n",
       "      <td>Pankaj</td>\n",
       "      <td>Battery</td>\n",
       "      <td>2022-09-06</td>\n",
       "      <td>2</td>\n",
       "      <td>30.0</td>\n",
       "      <td>8888555544</td>\n",
       "    </tr>\n",
       "    <tr>\n",
       "      <th>15</th>\n",
       "      <td>19</td>\n",
       "      <td>Naazdeep</td>\n",
       "      <td>Notebook</td>\n",
       "      <td>2022-09-06</td>\n",
       "      <td>7</td>\n",
       "      <td>70.0</td>\n",
       "      <td>3211114569</td>\n",
       "    </tr>\n",
       "  </tbody>\n",
       "</table>\n",
       "</div>"
      ],
      "text/plain": [
       "    Order_ID  Customer_Name Product_Name Date_Ordered  Quantity  Unit_Price  \\\n",
       "0          1          Steve       Laptop   2018-06-12         2       800.0   \n",
       "1          3          Stacy      Trouser   2018-12-25         5        50.0   \n",
       "2          5          Maria   Headphones   2019-05-30         6        48.0   \n",
       "3          6          Danny     Smart Tv   2018-08-20        10       300.0   \n",
       "4          7     Kr. SOURAV      I Phone   2023-09-05         1    150000.0   \n",
       "5          8     VarunPreet      MacBook   2023-09-05         1    159999.0   \n",
       "6          9  Keshav Sharma    UnderWear   2023-09-05         5       390.0   \n",
       "7         10         Dinesh      AirPods   2023-09-05         1     60000.0   \n",
       "8         11      JassPreet      Moniter   2023-09-05         2     45000.0   \n",
       "9         12          Sadhu          Pot   2022-07-12         4        50.0   \n",
       "10        14         Chahal      Burgger   2022-07-02         4        60.0   \n",
       "11        15        Manveer       Jacket   2022-07-06         2      2100.0   \n",
       "12        16         Sameer         A.C.   2022-01-04         1     90000.0   \n",
       "13        17        Muskaan      I Phone   2022-09-05         1    150000.0   \n",
       "14        18         Pankaj      Battery   2022-09-06         2        30.0   \n",
       "15        19       Naazdeep     Notebook   2022-09-06         7        70.0   \n",
       "\n",
       "     Phone_No.  \n",
       "0   6293730802  \n",
       "1   9874521469  \n",
       "2    532147298  \n",
       "3   3541978265  \n",
       "4   9877330880  \n",
       "5   9658741236  \n",
       "6   5417426985  \n",
       "7   8855214569  \n",
       "8   7411474147  \n",
       "9   9999999999  \n",
       "10  3571594562  \n",
       "11  7415987415  \n",
       "12  5214521452  \n",
       "13  9877330881  \n",
       "14  8888555544  \n",
       "15  3211114569  "
      ]
     },
     "execution_count": 27,
     "metadata": {},
     "output_type": "execute_result"
    }
   ],
   "source": [
    "results = readQuery(connection, q1)  # return a list of tuples\n",
    "df = pd.DataFrame(results, columns=columns)\n",
    "df\n"
   ]
  },
  {
   "attachments": {},
   "cell_type": "markdown",
   "metadata": {},
   "source": [
    "Delete Command"
   ]
  },
  {
   "cell_type": "code",
   "execution_count": 28,
   "metadata": {},
   "outputs": [
    {
     "name": "stdout",
     "output_type": "stream",
     "text": [
      "Query Executed Successfully\n",
      "0 Rows Affected\n",
      "Last Row : 0\n"
     ]
    }
   ],
   "source": [
    "deleteOrderQuery = \"\"\"\n",
    "delete from order_table where product_name = \"t-shirt\";\n",
    "\"\"\"\n",
    "executeQuery(connection, deleteOrderQuery)\n"
   ]
  },
  {
   "cell_type": "code",
   "execution_count": 29,
   "metadata": {},
   "outputs": [
    {
     "name": "stdout",
     "output_type": "stream",
     "text": [
      "Total Rows : 16\n"
     ]
    },
    {
     "data": {
      "text/html": [
       "<div>\n",
       "<style scoped>\n",
       "    .dataframe tbody tr th:only-of-type {\n",
       "        vertical-align: middle;\n",
       "    }\n",
       "\n",
       "    .dataframe tbody tr th {\n",
       "        vertical-align: top;\n",
       "    }\n",
       "\n",
       "    .dataframe thead th {\n",
       "        text-align: right;\n",
       "    }\n",
       "</style>\n",
       "<table border=\"1\" class=\"dataframe\">\n",
       "  <thead>\n",
       "    <tr style=\"text-align: right;\">\n",
       "      <th></th>\n",
       "      <th>Order_ID</th>\n",
       "      <th>Customer_Name</th>\n",
       "      <th>Product_Name</th>\n",
       "      <th>Date_Ordered</th>\n",
       "      <th>Quantity</th>\n",
       "      <th>Unit_Price</th>\n",
       "      <th>Phone_No.</th>\n",
       "    </tr>\n",
       "  </thead>\n",
       "  <tbody>\n",
       "    <tr>\n",
       "      <th>0</th>\n",
       "      <td>1</td>\n",
       "      <td>Steve</td>\n",
       "      <td>Laptop</td>\n",
       "      <td>2018-06-12</td>\n",
       "      <td>2</td>\n",
       "      <td>800.0</td>\n",
       "      <td>6293730802</td>\n",
       "    </tr>\n",
       "    <tr>\n",
       "      <th>1</th>\n",
       "      <td>3</td>\n",
       "      <td>Stacy</td>\n",
       "      <td>Trouser</td>\n",
       "      <td>2018-12-25</td>\n",
       "      <td>5</td>\n",
       "      <td>50.0</td>\n",
       "      <td>9874521469</td>\n",
       "    </tr>\n",
       "    <tr>\n",
       "      <th>2</th>\n",
       "      <td>5</td>\n",
       "      <td>Maria</td>\n",
       "      <td>Headphones</td>\n",
       "      <td>2019-05-30</td>\n",
       "      <td>6</td>\n",
       "      <td>48.0</td>\n",
       "      <td>532147298</td>\n",
       "    </tr>\n",
       "    <tr>\n",
       "      <th>3</th>\n",
       "      <td>6</td>\n",
       "      <td>Danny</td>\n",
       "      <td>Smart Tv</td>\n",
       "      <td>2018-08-20</td>\n",
       "      <td>10</td>\n",
       "      <td>300.0</td>\n",
       "      <td>3541978265</td>\n",
       "    </tr>\n",
       "    <tr>\n",
       "      <th>4</th>\n",
       "      <td>7</td>\n",
       "      <td>Kr. SOURAV</td>\n",
       "      <td>I Phone</td>\n",
       "      <td>2023-09-05</td>\n",
       "      <td>1</td>\n",
       "      <td>150000.0</td>\n",
       "      <td>9877330880</td>\n",
       "    </tr>\n",
       "    <tr>\n",
       "      <th>5</th>\n",
       "      <td>8</td>\n",
       "      <td>VarunPreet</td>\n",
       "      <td>MacBook</td>\n",
       "      <td>2023-09-05</td>\n",
       "      <td>1</td>\n",
       "      <td>159999.0</td>\n",
       "      <td>9658741236</td>\n",
       "    </tr>\n",
       "    <tr>\n",
       "      <th>6</th>\n",
       "      <td>9</td>\n",
       "      <td>Keshav Sharma</td>\n",
       "      <td>UnderWear</td>\n",
       "      <td>2023-09-05</td>\n",
       "      <td>5</td>\n",
       "      <td>390.0</td>\n",
       "      <td>5417426985</td>\n",
       "    </tr>\n",
       "    <tr>\n",
       "      <th>7</th>\n",
       "      <td>10</td>\n",
       "      <td>Dinesh</td>\n",
       "      <td>AirPods</td>\n",
       "      <td>2023-09-05</td>\n",
       "      <td>1</td>\n",
       "      <td>60000.0</td>\n",
       "      <td>8855214569</td>\n",
       "    </tr>\n",
       "    <tr>\n",
       "      <th>8</th>\n",
       "      <td>11</td>\n",
       "      <td>JassPreet</td>\n",
       "      <td>Moniter</td>\n",
       "      <td>2023-09-05</td>\n",
       "      <td>2</td>\n",
       "      <td>45000.0</td>\n",
       "      <td>7411474147</td>\n",
       "    </tr>\n",
       "    <tr>\n",
       "      <th>9</th>\n",
       "      <td>12</td>\n",
       "      <td>Sadhu</td>\n",
       "      <td>Pot</td>\n",
       "      <td>2022-07-12</td>\n",
       "      <td>4</td>\n",
       "      <td>50.0</td>\n",
       "      <td>9999999999</td>\n",
       "    </tr>\n",
       "    <tr>\n",
       "      <th>10</th>\n",
       "      <td>14</td>\n",
       "      <td>Chahal</td>\n",
       "      <td>Burgger</td>\n",
       "      <td>2022-07-02</td>\n",
       "      <td>4</td>\n",
       "      <td>60.0</td>\n",
       "      <td>3571594562</td>\n",
       "    </tr>\n",
       "    <tr>\n",
       "      <th>11</th>\n",
       "      <td>15</td>\n",
       "      <td>Manveer</td>\n",
       "      <td>Jacket</td>\n",
       "      <td>2022-07-06</td>\n",
       "      <td>2</td>\n",
       "      <td>2100.0</td>\n",
       "      <td>7415987415</td>\n",
       "    </tr>\n",
       "    <tr>\n",
       "      <th>12</th>\n",
       "      <td>16</td>\n",
       "      <td>Sameer</td>\n",
       "      <td>A.C.</td>\n",
       "      <td>2022-01-04</td>\n",
       "      <td>1</td>\n",
       "      <td>90000.0</td>\n",
       "      <td>5214521452</td>\n",
       "    </tr>\n",
       "    <tr>\n",
       "      <th>13</th>\n",
       "      <td>17</td>\n",
       "      <td>Muskaan</td>\n",
       "      <td>I Phone</td>\n",
       "      <td>2022-09-05</td>\n",
       "      <td>1</td>\n",
       "      <td>150000.0</td>\n",
       "      <td>9877330881</td>\n",
       "    </tr>\n",
       "    <tr>\n",
       "      <th>14</th>\n",
       "      <td>18</td>\n",
       "      <td>Pankaj</td>\n",
       "      <td>Battery</td>\n",
       "      <td>2022-09-06</td>\n",
       "      <td>2</td>\n",
       "      <td>30.0</td>\n",
       "      <td>8888555544</td>\n",
       "    </tr>\n",
       "    <tr>\n",
       "      <th>15</th>\n",
       "      <td>19</td>\n",
       "      <td>Naazdeep</td>\n",
       "      <td>Notebook</td>\n",
       "      <td>2022-09-06</td>\n",
       "      <td>7</td>\n",
       "      <td>70.0</td>\n",
       "      <td>3211114569</td>\n",
       "    </tr>\n",
       "  </tbody>\n",
       "</table>\n",
       "</div>"
      ],
      "text/plain": [
       "    Order_ID  Customer_Name Product_Name Date_Ordered  Quantity  Unit_Price  \\\n",
       "0          1          Steve       Laptop   2018-06-12         2       800.0   \n",
       "1          3          Stacy      Trouser   2018-12-25         5        50.0   \n",
       "2          5          Maria   Headphones   2019-05-30         6        48.0   \n",
       "3          6          Danny     Smart Tv   2018-08-20        10       300.0   \n",
       "4          7     Kr. SOURAV      I Phone   2023-09-05         1    150000.0   \n",
       "5          8     VarunPreet      MacBook   2023-09-05         1    159999.0   \n",
       "6          9  Keshav Sharma    UnderWear   2023-09-05         5       390.0   \n",
       "7         10         Dinesh      AirPods   2023-09-05         1     60000.0   \n",
       "8         11      JassPreet      Moniter   2023-09-05         2     45000.0   \n",
       "9         12          Sadhu          Pot   2022-07-12         4        50.0   \n",
       "10        14         Chahal      Burgger   2022-07-02         4        60.0   \n",
       "11        15        Manveer       Jacket   2022-07-06         2      2100.0   \n",
       "12        16         Sameer         A.C.   2022-01-04         1     90000.0   \n",
       "13        17        Muskaan      I Phone   2022-09-05         1    150000.0   \n",
       "14        18         Pankaj      Battery   2022-09-06         2        30.0   \n",
       "15        19       Naazdeep     Notebook   2022-09-06         7        70.0   \n",
       "\n",
       "     Phone_No.  \n",
       "0   6293730802  \n",
       "1   9874521469  \n",
       "2    532147298  \n",
       "3   3541978265  \n",
       "4   9877330880  \n",
       "5   9658741236  \n",
       "6   5417426985  \n",
       "7   8855214569  \n",
       "8   7411474147  \n",
       "9   9999999999  \n",
       "10  3571594562  \n",
       "11  7415987415  \n",
       "12  5214521452  \n",
       "13  9877330881  \n",
       "14  8888555544  \n",
       "15  3211114569  "
      ]
     },
     "execution_count": 29,
     "metadata": {},
     "output_type": "execute_result"
    }
   ],
   "source": [
    "results = readQuery(connection, q1)  # return a list of tuples\n",
    "df = pd.DataFrame(results, columns=columns)\n",
    "df\n"
   ]
  },
  {
   "attachments": {},
   "cell_type": "markdown",
   "metadata": {},
   "source": [
    "Closing The Connection"
   ]
  },
  {
   "cell_type": "code",
   "execution_count": 30,
   "metadata": {},
   "outputs": [],
   "source": [
    "connection.close()"
   ]
  },
  {
   "cell_type": "code",
   "execution_count": 31,
   "metadata": {},
   "outputs": [],
   "source": [
    "# executeQuery(connection, \"drop table order_table;\")"
   ]
  },
  {
   "cell_type": "code",
   "execution_count": 32,
   "metadata": {},
   "outputs": [
    {
     "name": "stdout",
     "output_type": "stream",
     "text": [
      "Not Connected\n"
     ]
    }
   ],
   "source": [
    "if connection.is_connected():\n",
    "    print(\"Yes, Connected\")\n",
    "else:\n",
    "    print(\"Not Connected\")\n"
   ]
  },
  {
   "attachments": {},
   "cell_type": "markdown",
   "metadata": {},
   "source": [
    "# End"
   ]
  }
 ],
 "metadata": {
  "kernelspec": {
   "display_name": "Python 3",
   "language": "python",
   "name": "python3"
  },
  "language_info": {
   "codemirror_mode": {
    "name": "ipython",
    "version": 3
   },
   "file_extension": ".py",
   "mimetype": "text/x-python",
   "name": "python",
   "nbconvert_exporter": "python",
   "pygments_lexer": "ipython3",
   "version": "3.11.1 (tags/v3.11.1:a7a450f, Dec  6 2022, 19:58:39) [MSC v.1934 64 bit (AMD64)]"
  },
  "orig_nbformat": 4,
  "vscode": {
   "interpreter": {
    "hash": "b37f6842cfa5693682ca177646b86562e7e6680399d6aa97975ae5063d95e764"
   }
  }
 },
 "nbformat": 4,
 "nbformat_minor": 2
}
